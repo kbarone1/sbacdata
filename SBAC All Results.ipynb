{
 "cells": [
  {
   "cell_type": "markdown",
   "metadata": {},
   "source": [
    "The goal of this project was to explore 2019 California SBAC testing data from the [CA Dept of Education website.](https://caaspp-elpac.cde.ca.gov/caaspp/DashViewReport?ps=true&lstTestYear=2019&lstTestType=B&lstGroup=1&lstSubGroup=1&lstSchoolType=A&lstGrade=13&lstCounty=00&lstDistrict=00000&lstSchool=0000000). The main question I wanted to answer was whether students in CA who's parents have graduated high school have significantly higher math scores than students who's parents have not graduated from high school. \n",
    "\n"
   ]
  },
  {
   "cell_type": "code",
   "execution_count": 19,
   "metadata": {},
   "outputs": [],
   "source": [
    "import pandas as pd\n",
    "import numpy as np\n",
    "import seaborn as sns"
   ]
  },
  {
   "cell_type": "code",
   "execution_count": 20,
   "metadata": {},
   "outputs": [
    {
     "name": "stdout",
     "output_type": "stream",
     "text": [
      "/Users/katybarone/Downloads\n"
     ]
    }
   ],
   "source": [
    "cd .."
   ]
  },
  {
   "cell_type": "code",
   "execution_count": 21,
   "metadata": {},
   "outputs": [
    {
     "name": "stdout",
     "output_type": "stream",
     "text": [
      "/Users/katybarone/Downloads/sb_ca2019_all_csv_v3\n"
     ]
    }
   ],
   "source": [
    "cd ~/Downloads/sb_ca2019_all_csv_v3\n"
   ]
  },
  {
   "cell_type": "code",
   "execution_count": 22,
   "metadata": {},
   "outputs": [],
   "source": [
    "#Loading in two datasets from CAASPP Research files. \n",
    "df = pd.read_csv('sb_ca2019_all_csv_v3.txt', sep = ',')\n",
    "entities = pd.read_csv('sb_ca2019entities_csv.txt', sep = ',', encoding = 'ISO-8859-1')"
   ]
  },
  {
   "cell_type": "code",
   "execution_count": null,
   "metadata": {},
   "outputs": [],
   "source": [
    "df.head()"
   ]
  },
  {
   "cell_type": "code",
   "execution_count": 23,
   "metadata": {},
   "outputs": [],
   "source": [
    "# Removing unnecessary columns\n",
    "df = df.iloc[:,0:17].reset_index(drop = True)\n",
    "entities = entities.drop(['Test Year', 'Filler'], axis = 1)"
   ]
  },
  {
   "cell_type": "code",
   "execution_count": null,
   "metadata": {},
   "outputs": [],
   "source": [
    "df.dtypes, entities.dtypes"
   ]
  },
  {
   "cell_type": "code",
   "execution_count": 24,
   "metadata": {},
   "outputs": [],
   "source": [
    "# Selecting the names of the columns from df that I want to make numeric\n",
    "cols_to_numeric = ['CAASPP Reported Enrollment',\n",
    "                   'Students Tested',\n",
    "                   'Mean Scale Score',\n",
    "                   'Percentage Standard Exceeded',\n",
    "                   'Percentage Standard Met',\n",
    "                   'Percentage Standard Met and Above']"
   ]
  },
  {
   "cell_type": "code",
   "execution_count": 25,
   "metadata": {},
   "outputs": [
    {
     "name": "stdout",
     "output_type": "stream",
     "text": [
      "County Code                            int64\n",
      "District Code                          int64\n",
      "School Code                            int64\n",
      "Filler                               float64\n",
      "Test Year                              int64\n",
      "Subgroup ID                            int64\n",
      "Test Type                             object\n",
      "Total Tested At Entity Level          object\n",
      "Total Tested with Scores              object\n",
      "Grade                                  int64\n",
      "Test Id                                int64\n",
      "CAASPP Reported Enrollment           float64\n",
      "Students Tested                      float64\n",
      "Mean Scale Score                     float64\n",
      "Percentage Standard Exceeded         float64\n",
      "Percentage Standard Met              float64\n",
      "Percentage Standard Met and Above    float64\n",
      "dtype: object\n"
     ]
    }
   ],
   "source": [
    "# Looping through the list of column names to transform the type from object to numeric and coercing the errors.\n",
    "for col in cols_to_numeric:\n",
    "    df[col] = pd.to_numeric(df[col], errors = 'coerce')\n",
    "print(df.dtypes)"
   ]
  },
  {
   "cell_type": "markdown",
   "metadata": {},
   "source": [
    "This dataset includes the following general subgroups: the entire state of CA, each districts' average scores, and each county's average scores. I want to remove those subgroups so we aren't double counting schools. I also want to remove grade specific data. \"Grade\" == 13 is the subgroup for \"All students\"."
   ]
  },
  {
   "cell_type": "code",
   "execution_count": 27,
   "metadata": {},
   "outputs": [],
   "source": [
    "grades_sep = df[df['Grade']!= 13]"
   ]
  },
  {
   "cell_type": "code",
   "execution_count": 28,
   "metadata": {},
   "outputs": [],
   "source": [
    "df_sep_schools = df[(df['Grade']==13) & (df['County Code'] != 0) & (df['District Code']!=0) & (df['School Code'] != 0)].reset_index(drop = True)"
   ]
  },
  {
   "cell_type": "code",
   "execution_count": null,
   "metadata": {},
   "outputs": [],
   "source": [
    "df_sep_schools.head(20)"
   ]
  },
  {
   "cell_type": "code",
   "execution_count": 29,
   "metadata": {},
   "outputs": [
    {
     "data": {
      "text/html": [
       "<div>\n",
       "<style scoped>\n",
       "    .dataframe tbody tr th:only-of-type {\n",
       "        vertical-align: middle;\n",
       "    }\n",
       "\n",
       "    .dataframe tbody tr th {\n",
       "        vertical-align: top;\n",
       "    }\n",
       "\n",
       "    .dataframe thead th {\n",
       "        text-align: right;\n",
       "    }\n",
       "</style>\n",
       "<table border=\"1\" class=\"dataframe\">\n",
       "  <thead>\n",
       "    <tr style=\"text-align: right;\">\n",
       "      <th></th>\n",
       "      <th>County Code</th>\n",
       "      <th>District Code</th>\n",
       "      <th>School Code</th>\n",
       "      <th>Filler</th>\n",
       "      <th>Test Year</th>\n",
       "      <th>Subgroup ID</th>\n",
       "      <th>Test Type</th>\n",
       "      <th>Total Tested At Entity Level</th>\n",
       "      <th>Total Tested with Scores</th>\n",
       "      <th>Grade</th>\n",
       "      <th>Test Id</th>\n",
       "      <th>CAASPP Reported Enrollment</th>\n",
       "      <th>Students Tested</th>\n",
       "      <th>Mean Scale Score</th>\n",
       "      <th>Percentage Standard Exceeded</th>\n",
       "      <th>Percentage Standard Met</th>\n",
       "      <th>Percentage Standard Met and Above</th>\n",
       "    </tr>\n",
       "  </thead>\n",
       "  <tbody>\n",
       "    <tr>\n",
       "      <th>39</th>\n",
       "      <td>1</td>\n",
       "      <td>10017</td>\n",
       "      <td>112607</td>\n",
       "      <td>NaN</td>\n",
       "      <td>2019</td>\n",
       "      <td>1</td>\n",
       "      <td>B</td>\n",
       "      <td>84</td>\n",
       "      <td>84</td>\n",
       "      <td>13</td>\n",
       "      <td>2</td>\n",
       "      <td>90.0</td>\n",
       "      <td>84.0</td>\n",
       "      <td>NaN</td>\n",
       "      <td>3.57</td>\n",
       "      <td>7.14</td>\n",
       "      <td>10.71</td>\n",
       "    </tr>\n",
       "    <tr>\n",
       "      <th>40</th>\n",
       "      <td>1</td>\n",
       "      <td>10017</td>\n",
       "      <td>112607</td>\n",
       "      <td>NaN</td>\n",
       "      <td>2019</td>\n",
       "      <td>3</td>\n",
       "      <td>B</td>\n",
       "      <td>41</td>\n",
       "      <td>41</td>\n",
       "      <td>13</td>\n",
       "      <td>2</td>\n",
       "      <td>43.0</td>\n",
       "      <td>41.0</td>\n",
       "      <td>NaN</td>\n",
       "      <td>4.88</td>\n",
       "      <td>9.76</td>\n",
       "      <td>14.63</td>\n",
       "    </tr>\n",
       "    <tr>\n",
       "      <th>41</th>\n",
       "      <td>1</td>\n",
       "      <td>10017</td>\n",
       "      <td>112607</td>\n",
       "      <td>NaN</td>\n",
       "      <td>2019</td>\n",
       "      <td>4</td>\n",
       "      <td>B</td>\n",
       "      <td>43</td>\n",
       "      <td>43</td>\n",
       "      <td>13</td>\n",
       "      <td>2</td>\n",
       "      <td>47.0</td>\n",
       "      <td>43.0</td>\n",
       "      <td>NaN</td>\n",
       "      <td>2.33</td>\n",
       "      <td>4.65</td>\n",
       "      <td>6.98</td>\n",
       "    </tr>\n",
       "    <tr>\n",
       "      <th>42</th>\n",
       "      <td>1</td>\n",
       "      <td>10017</td>\n",
       "      <td>112607</td>\n",
       "      <td>NaN</td>\n",
       "      <td>2019</td>\n",
       "      <td>6</td>\n",
       "      <td>B</td>\n",
       "      <td>78</td>\n",
       "      <td>78</td>\n",
       "      <td>13</td>\n",
       "      <td>2</td>\n",
       "      <td>83.0</td>\n",
       "      <td>78.0</td>\n",
       "      <td>NaN</td>\n",
       "      <td>3.85</td>\n",
       "      <td>7.69</td>\n",
       "      <td>11.54</td>\n",
       "    </tr>\n",
       "    <tr>\n",
       "      <th>43</th>\n",
       "      <td>1</td>\n",
       "      <td>10017</td>\n",
       "      <td>112607</td>\n",
       "      <td>NaN</td>\n",
       "      <td>2019</td>\n",
       "      <td>7</td>\n",
       "      <td>B</td>\n",
       "      <td>*</td>\n",
       "      <td>*</td>\n",
       "      <td>13</td>\n",
       "      <td>2</td>\n",
       "      <td>NaN</td>\n",
       "      <td>NaN</td>\n",
       "      <td>NaN</td>\n",
       "      <td>NaN</td>\n",
       "      <td>NaN</td>\n",
       "      <td>NaN</td>\n",
       "    </tr>\n",
       "  </tbody>\n",
       "</table>\n",
       "</div>"
      ],
      "text/plain": [
       "    County Code  District Code  School Code  Filler  Test Year  Subgroup ID  \\\n",
       "39            1          10017       112607     NaN       2019            1   \n",
       "40            1          10017       112607     NaN       2019            3   \n",
       "41            1          10017       112607     NaN       2019            4   \n",
       "42            1          10017       112607     NaN       2019            6   \n",
       "43            1          10017       112607     NaN       2019            7   \n",
       "\n",
       "   Test Type Total Tested At Entity Level Total Tested with Scores  Grade  \\\n",
       "39         B                           84                       84     13   \n",
       "40         B                           41                       41     13   \n",
       "41         B                           43                       43     13   \n",
       "42         B                           78                       78     13   \n",
       "43         B                            *                        *     13   \n",
       "\n",
       "    Test Id  CAASPP Reported Enrollment  Students Tested  Mean Scale Score  \\\n",
       "39        2                        90.0             84.0               NaN   \n",
       "40        2                        43.0             41.0               NaN   \n",
       "41        2                        47.0             43.0               NaN   \n",
       "42        2                        83.0             78.0               NaN   \n",
       "43        2                         NaN              NaN               NaN   \n",
       "\n",
       "    Percentage Standard Exceeded  Percentage Standard Met  \\\n",
       "39                          3.57                     7.14   \n",
       "40                          4.88                     9.76   \n",
       "41                          2.33                     4.65   \n",
       "42                          3.85                     7.69   \n",
       "43                           NaN                      NaN   \n",
       "\n",
       "    Percentage Standard Met and Above  \n",
       "39                              10.71  \n",
       "40                              14.63  \n",
       "41                               6.98  \n",
       "42                              11.54  \n",
       "43                                NaN  "
      ]
     },
     "execution_count": 29,
     "metadata": {},
     "output_type": "execute_result"
    }
   ],
   "source": [
    "# There are two different tests that make up this dataframe. \"Test ID\" == 2 is the SBAC Math test. \"Test Id\" == 1 is the SBAC ELA test.\n",
    "math = df_sep_schools[df_sep_schools['Test Id']==2]\n",
    "ela = df_sep_schools[df_sep_schools['Test Id'] ==1]\n",
    "math.head()"
   ]
  },
  {
   "cell_type": "code",
   "execution_count": null,
   "metadata": {},
   "outputs": [],
   "source": [
    "# There should be about the same amount of data in each dataset. "
   ]
  },
  {
   "cell_type": "code",
   "execution_count": 30,
   "metadata": {},
   "outputs": [
    {
     "name": "stdout",
     "output_type": "stream",
     "text": [
      "(398816, 398815)\n"
     ]
    }
   ],
   "source": [
    "print((len(math),len(ela)))"
   ]
  },
  {
   "cell_type": "code",
   "execution_count": null,
   "metadata": {},
   "outputs": [],
   "source": [
    "# Merging our main dataset with the \"entites\" dataset. \n",
    "# This adds in school level data like school name, zip code and school type."
   ]
  },
  {
   "cell_type": "code",
   "execution_count": 31,
   "metadata": {},
   "outputs": [],
   "source": [
    "math = math.merge(entities, how = 'left', on = 'School Code')\n",
    "ela = ela.merge(entities, how = 'left', on = 'School Code')"
   ]
  },
  {
   "cell_type": "code",
   "execution_count": null,
   "metadata": {},
   "outputs": [],
   "source": [
    "print(math.columns)"
   ]
  },
  {
   "cell_type": "code",
   "execution_count": 32,
   "metadata": {},
   "outputs": [
    {
     "name": "stdout",
     "output_type": "stream",
     "text": [
      "21.859467353951832 27.894322476379916\n"
     ]
    }
   ],
   "source": [
    "from scipy.stats import ttest_ind\n",
    "from matplotlib import pyplot as plt\n",
    "\n",
    "\n",
    "math_hs_grad = math[math['Subgroup ID']== 91]\n",
    "math_no_grad = math[math['Subgroup ID'] ==90]\n",
    "math_hs_grad = math_hs_grad['Percentage Standard Met and Above']\n",
    "math_no_grad = math_no_grad['Percentage Standard Met and Above']\n",
    "\n",
    "\n",
    "math_grad_mean = np.mean(math_hs_grad)\n",
    "math_no_grad_mean = np.mean(math_no_grad)\n",
    "math_grad_std = np.std(math_hs_grad)\n",
    "math_no_grad_std = np.std(math_no_grad)\n",
    "\n",
    "print(math_no_grad_mean, math_grad_mean)"
   ]
  },
  {
   "cell_type": "code",
   "execution_count": 33,
   "metadata": {},
   "outputs": [],
   "source": [
    "math_hs_grad2 = math_hs_grad.fillna(math_grad_mean)\n",
    "math_no_grad2 = math_no_grad.fillna(math_no_grad_mean)\n"
   ]
  },
  {
   "cell_type": "code",
   "execution_count": 34,
   "metadata": {},
   "outputs": [
    {
     "name": "stdout",
     "output_type": "stream",
     "text": [
      "8.243457355917089e-235\n"
     ]
    }
   ],
   "source": [
    "tstat, pval = ttest_ind(math_hs_grad2, math_no_grad2)\n",
    "print(pval)"
   ]
  },
  {
   "cell_type": "code",
   "execution_count": 36,
   "metadata": {},
   "outputs": [
    {
     "name": "stdout",
     "output_type": "stream",
     "text": [
      "0\n"
     ]
    }
   ],
   "source": [
    "print(math_hs_grad2.isna().sum())"
   ]
  },
  {
   "cell_type": "code",
   "execution_count": 37,
   "metadata": {},
   "outputs": [
    {
     "name": "stderr",
     "output_type": "stream",
     "text": [
      "/anaconda3/lib/python3.6/site-packages/numpy/lib/function_base.py:780: RuntimeWarning: invalid value encountered in greater_equal\n",
      "  keep = (tmp_a >= first_edge)\n",
      "/anaconda3/lib/python3.6/site-packages/numpy/lib/function_base.py:781: RuntimeWarning: invalid value encountered in less_equal\n",
      "  keep &= (tmp_a <= last_edge)\n"
     ]
    },
    {
     "data": {
      "image/png": "[encoded data removed]",
      "text/plain": [
       "<matplotlib.figure.Figure at 0x1b141fc898>"
      ]
     },
     "metadata": {},
     "output_type": "display_data"
    }
   ],
   "source": [
    "plt.hist(math_hs_grad, range = (0,70), alpha = 0.5)\n",
    "plt.hist(math_no_grad, range = (0,70), alpha = 0.5)\n",
    "plt.show()"
   ]
  },
  {
   "cell_type": "code",
   "execution_count": null,
   "metadata": {},
   "outputs": [],
   "source": []
  },
  {
   "cell_type": "code",
   "execution_count": null,
   "metadata": {},
   "outputs": [],
   "source": []
  },
  {
   "cell_type": "code",
   "execution_count": null,
   "metadata": {},
   "outputs": [],
   "source": []
  }
 ],
 "metadata": {
  "kernelspec": {
   "display_name": "Python 3",
   "language": "python",
   "name": "python3"
  },
  "language_info": {
   "codemirror_mode": {
    "name": "ipython",
    "version": 3
   },
   "file_extension": ".py",
   "mimetype": "text/x-python",
   "name": "python",
   "nbconvert_exporter": "python",
   "pygments_lexer": "ipython3",
   "version": "3.6.4"
  }
 },
 "nbformat": 4,
 "nbformat_minor": 2
}
